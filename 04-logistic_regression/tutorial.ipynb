{
 "cells": [
  {
   "cell_type": "markdown",
   "metadata": {},
   "source": [
    "**TODO:**\n",
    "- use cases\n",
    "- formal description\n",
    "- choose dataset\n",
    "- N classes => N classificators\n",
    "- create graphs"
   ]
  },
  {
   "cell_type": "markdown",
   "metadata": {},
   "source": [
    "# Logistische Regression mit Python\n",
    "\n",
    "Ein ähnliches Konzept wurde im 2. Blogbeitrag als \"lineares Modell für Klassifikation\" vorgestellt. Dieses Konzept wird in diesem Blogbeitrag erweitert.\n",
    "\n",
    "Es handelt sich um die logistische Regression. Das ist ein Modell für Regressionsanalyse, wobei die Abhängige Variable kategorisch ist. Das heißt, wir können dieses Modell für Klassifikation verwenden. Ein weiterer Vorteil der logistischen Regression ist, dass sie liefert auch die Wahrscheinlichkeit, dass eine Stichprobe zur ausgewählten Klasse gehört.\n",
    "\n",
    "## Praktische Beispiele\n",
    "\n",
    "- was\n",
    "- was anders\n",
    "**TODO**\n",
    "\n",
    "## Formale Definition\n",
    "\n",
    "Wie bei der linearen Regression sucht man geeignete Koeffiziente (*w*), so dass man das Modell mit der folgenden Formell beschreiben kann.\n",
    "\n",
    "`y = w0 + w1*x1 + w2*x2 + ... + wn*xn`\n",
    "\n",
    "Das liefert aber eine Zahl, die beliebig groß oder klein sein kann und gar nichts mit Wahrscheinlichkeiten zu tun hat. Wir brauchen eine Zahl zwischen 0 und 1 und zur Hilfe kommt hier die logistische Funktion. \n",
    "\n",
    "### Logistische Funktion"
   ]
  },
  {
   "cell_type": "code",
   "execution_count": 44,
   "metadata": {},
   "outputs": [
    {
     "data": {
      "image/png": "[encoded data removed]",
      "text/plain": [
       "<matplotlib.figure.Figure at 0x7f44af3fbb70>"
      ]
     },
     "metadata": {},
     "output_type": "display_data"
    }
   ],
   "source": [
    "import numpy as np\n",
    "import matplotlib.pyplot as plt\n",
    "\n",
    "def logistic(x):\n",
    "    return 1 / (1 + np.exp(-x))\n",
    "\n",
    "# logistische Funktion plotten\n",
    "t = np.arange(-6,6,0.05)\n",
    "plt.plot(t, logistic(t))\n",
    "plt.yticks([0, 0.2, 0.5, 0.8, 1])\n",
    "plt.grid(linewidth=1)\n",
    "plt.title(\"Logistische Funktion\")\n",
    "plt.show()"
   ]
  },
  {
   "cell_type": "markdown",
   "metadata": {},
   "source": [
    "Die logistische Funktion ist als `1 / 1 + e^-x` definiert, wobei `e` die Eulersche Zahl ist (~2,71828...). Diese Zahl ist die Basis des natürlichen Logarithmus.\n",
    "\n",
    "Es ist zu sehen, dass die Ausgabe der logistischen Funktion zwischen 0 und 1 beschränkt ist. Interessant ist auch, dass bei `x=0`, der Ausgabewert genau `0.5` ist.\n",
    "\n",
    "**TODO**"
   ]
  },
  {
   "cell_type": "code",
   "execution_count": null,
   "metadata": {
    "collapsed": true
   },
   "outputs": [],
   "source": []
  }
 ],
 "metadata": {
  "kernelspec": {
   "display_name": "Python 3",
   "language": "python",
   "name": "python3"
  },
  "language_info": {
   "codemirror_mode": {
    "name": "ipython",
    "version": 3
   },
   "file_extension": ".py",
   "mimetype": "text/x-python",
   "name": "python",
   "nbconvert_exporter": "python",
   "pygments_lexer": "ipython3",
   "version": "3.6.1"
  }
 },
 "nbformat": 4,
 "nbformat_minor": 2
}
